{
  "cells": [
    {
      "cell_type": "markdown",
      "metadata": {
        "id": "XmV2DlJ0O939"
      },
      "source": [
        "# Guess the Number Game"
      ]
    },
    {
      "cell_type": "markdown",
      "metadata": {
        "id": "BsomstRfPBPb"
      },
      "source": [
        "\n",
        "Welcome to the **Guess the Number** game implemented in Python using Google Colab. In this game, you will guess a randomly generated number between 1 and 100. The game will give you feedback on whether your guess is too high or too low until you guess the correct number.\n"
      ]
    },
    {
      "cell_type": "code",
      "execution_count": null,
      "metadata": {
        "colab": {
          "base_uri": "https://localhost:8080/",
          "height": 590
        },
        "id": "uvGdDZIuPAuL",
        "outputId": "d0ed5f23-4047-4534-fa21-7e9cb388c8ef"
      },
      "outputs": [],
      "source": [
        "import random\n",
        "\n",
        "def guess_the_number():\n",
        "    # Step 1: Generate a random number between 1 and 100\n",
        "    number_to_guess = random.randint(1, 100)\n",
        "    attempts = 0\n",
        "    guessed = False\n",
        "\n",
        "    print(\"Welcome to 'Guess the Number'!\")\n",
        "    print(\"I'm thinking of a number between 1 and 100.\")\n",
        "\n",
        "    # Step 2: Loop until the user guesses the number\n",
        "    while not guessed:\n",
        "        try:\n",
        "            # Step 3: Get user's guess\n",
        "            user_guess = int(input(\"Enter your guess: \"))\n",
        "            attempts += 1\n",
        "            \n",
        "            # Step 4: Check the guess\n",
        "            if user_guess < number_to_guess:\n",
        "                print(\"Too low! Try again.\")\n",
        "            elif user_guess > number_to_guess:\n",
        "                print(\"Too high! Try again.\")\n",
        "            else:\n",
        "                print(f\"Congratulations! You've guessed the number {number_to_guess} in {attempts} attempts.\")\n",
        "                guessed = True\n",
        "        except ValueError:\n",
        "            print(\"Please enter a valid integer.\")\n",
        "        except KeyboardInterrupt:\n",
        "            print(\"\\nGame interrupted by user.\")\n",
        "            break\n",
        "\n",
        "# Run the game\n",
        "if __name__ == \"__main__\":\n",
        "    guess_the_number()\n"
      ]
    },
    {
      "cell_type": "markdown",
      "metadata": {
        "id": "THPgxWg-PZ4y"
      },
      "source": [
        "## How to Play\n",
        "\n",
        "1. Run the code cell by cell.\n",
        "2. When prompted, enter your guess in the input field.\n",
        "3. The game will inform you if your guess is too high or too low.\n",
        "4. Continue guessing until you find the correct number.\n",
        "5. The game will display the number of attempts you took to guess correctly.\n",
        "\n",
        "## Example\n",
        "\n"
      ]
    }
  ],
  "metadata": {
    "colab": {
      "provenance": [],
      "toc_visible": true
    },
    "kernelspec": {
      "display_name": "Python 3",
      "name": "python3"
    },
    "language_info": {
      "name": "python",
      "version": "3.11.8"
    }
  },
  "nbformat": 4,
  "nbformat_minor": 0
}
